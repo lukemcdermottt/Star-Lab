{
 "cells": [
  {
   "cell_type": "code",
   "execution_count": 1,
   "metadata": {},
   "outputs": [],
   "source": [
    "from model import *\n",
    "from data import *\n",
    "from torch.optim import Adam, lr_scheduler"
   ]
  },
  {
   "cell_type": "markdown",
   "metadata": {},
   "source": [
    "Load Data"
   ]
  },
  {
   "cell_type": "code",
   "execution_count": 2,
   "metadata": {},
   "outputs": [],
   "source": [
    "bs = 64\n",
    "train_data, train_labels, val_data, val_labels = get_data()\n",
    "training_set = Dataset(train_data, train_labels)\n",
    "val_set = Dataset(val_data, val_labels)\n",
    "training_generator = torch.utils.data.DataLoader(training_set, batch_size = bs, shuffle = True, num_workers = 6)\n",
    "val_generator = torch.utils.data.DataLoader(val_set, batch_size = bs, shuffle = True, num_workers = 6)"
   ]
  },
  {
   "cell_type": "markdown",
   "metadata": {},
   "source": [
    "Initialize the Model"
   ]
  },
  {
   "cell_type": "code",
   "execution_count": 3,
   "metadata": {},
   "outputs": [],
   "source": [
    "model = baseline()\n",
    "criterion = nn.MSELoss()\n",
    "optimizer = Adam(model.parameters(), lr = .1)\n",
    "lrs = lr_scheduler.LinearLR(optimizer, total_iters=25)"
   ]
  },
  {
   "cell_type": "markdown",
   "metadata": {},
   "source": [
    "Training Procedure"
   ]
  },
  {
   "cell_type": "code",
   "execution_count": 4,
   "metadata": {},
   "outputs": [
    {
     "name": "stdout",
     "output_type": "stream",
     "text": [
      "Epoch: 0 Train Loss 1.0037220051744953 Val Loss: 1.0041733717080206\n",
      "Train Acc: 0.5058083576998051 Val Acc: 0.5124635214007782\n",
      "Epoch: 1 Train Loss 1.002220336929895 Val Loss: 1.0032861926592886\n",
      "Train Acc: 0.5062408625730994 Val Acc: 0.5127742650237787\n",
      "Epoch: 2 Train Loss 1.0021808671299368 Val Loss: 1.003573196940124\n",
      "Train Acc: 0.5097587719298247 Val Acc: 0.5126188932122784\n",
      "Epoch: 3 Train Loss 1.001969818433281 Val Loss: 1.0080936485901475\n",
      "Train Acc: 0.5075109649122806 Val Acc: 0.5119974059662776\n",
      "Epoch: 4 Train Loss 1.002738400187809 Val Loss: 1.0038370955735445\n",
      "Train Acc: 0.5067708333333333 Val Acc: 0.5127742650237787\n",
      "Epoch: 5 Train Loss 1.0023121115518734 Val Loss: 1.0041443300433457\n",
      "Train Acc: 0.5056621588693958 Val Acc: 0.5123081495892781\n",
      "Epoch: 6 Train Loss 1.0021262637455948 Val Loss: 1.0047008339315653\n",
      "Train Acc: 0.5070815058479532 Val Acc: 0.5124635214007782\n",
      "Epoch: 7 Train Loss 1.002396861789748 Val Loss: 1.005260669393465\n",
      "Train Acc: 0.507285575048733 Val Acc: 0.4880025940337225\n",
      "Epoch: 8 Train Loss 1.0022830392117612 Val Loss: 1.0033231927081943\n",
      "Train Acc: 0.5057474415204679 Val Acc: 0.5123081495892781\n",
      "Epoch: 9 Train Loss 1.002799898502417 Val Loss: 1.003574752714485\n",
      "Train Acc: 0.5070601851851851 Val Acc: 0.5121527777777778\n"
     ]
    },
    {
     "data": {
      "image/png": "[encoded data removed]",
      "text/plain": [
       "<Figure size 432x288 with 1 Axes>"
      ]
     },
     "metadata": {
      "needs_background": "light"
     },
     "output_type": "display_data"
    }
   ],
   "source": [
    "use_cuda = torch.cuda.is_available()\n",
    "device = torch.device(\"cuda:0\" if use_cuda else \"cpu\")\n",
    "torch.backends.cudnn.benchmark = True\n",
    "\n",
    "#Record to plot later\n",
    "epoch_train = []\n",
    "epoch_val = []\n",
    "for epoch in range(10):\n",
    "\n",
    "    running_loss = 0\n",
    "    val_loss = 0\n",
    "    train_acc = []\n",
    "    val_acc = []\n",
    "\n",
    "    #Main Training Procedure\n",
    "    for local_batch, local_labels in training_generator:\n",
    "\n",
    "        local_batch, local_labels = local_batch.to(device), local_labels.to(device)\n",
    "        optimizer.zero_grad()\n",
    "        outputs = torch.squeeze(model(local_batch))\n",
    "        loss = criterion(outputs, local_labels)\n",
    "        loss.backward()\n",
    "        optimizer.step()\n",
    "        lrs.step()\n",
    "\n",
    "        train_acc.append(np.mean(((outputs.data.cpu().numpy() - local_labels.data.cpu().numpy())**2 < .25)))\n",
    "        running_loss += loss.item() / (4*bs)\n",
    "\n",
    "    #Validation Proceudre\n",
    "    for local_batch, local_labels in val_generator:\n",
    "\n",
    "        local_batch, local_labels = local_batch.to(device), local_labels.to(device)\n",
    "        outputs = torch.squeeze(model(local_batch))\n",
    "        loss = criterion(outputs, local_labels)\n",
    "\n",
    "        val_acc.append(np.mean(((outputs.data.cpu().numpy() - local_labels.data.cpu().numpy())**2 < .25)))\n",
    "        val_loss += loss.item() / bs\n",
    "\n",
    "    print('Epoch:', epoch, 'Train Loss', running_loss, 'Val Loss:', val_loss)\n",
    "    print('Train Acc:', np.mean(np.array(train_acc)), 'Val Acc:', np.mean(np.array(val_acc)))\n",
    "    epoch_train.append(running_loss)\n",
    "    epoch_val.append(val_loss)\n",
    "\n",
    "plt.figure()\n",
    "plt.title('loss over epochs')\n",
    "plt.plot(epoch_val, label=f'validation loss')\n",
    "plt.plot(epoch_train, label=f'training loss')\n",
    "plt.legend()\n",
    "plt.show()\n"
   ]
  },
  {
   "cell_type": "markdown",
   "metadata": {},
   "source": [
    "Test outputs"
   ]
  },
  {
   "cell_type": "code",
   "execution_count": 7,
   "metadata": {},
   "outputs": [
    {
     "data": {
      "text/plain": [
       "tensor([0.4812, 0.4798, 0.4807, 0.4820, 0.4798, 0.4800, 0.4814, 0.4857, 0.4804,\n",
       "        0.4815], grad_fn=<SqueezeBackward0>)"
      ]
     },
     "execution_count": 7,
     "metadata": {},
     "output_type": "execute_result"
    }
   ],
   "source": [
    "torch.squeeze(model(torch.randn(10, 1, 2)))"
   ]
  }
 ],
 "metadata": {
  "kernelspec": {
   "display_name": "Python 3.9.6 64-bit ('3.9.6')",
   "language": "python",
   "name": "python3"
  },
  "language_info": {
   "codemirror_mode": {
    "name": "ipython",
    "version": 3
   },
   "file_extension": ".py",
   "mimetype": "text/x-python",
   "name": "python",
   "nbconvert_exporter": "python",
   "pygments_lexer": "ipython3",
   "version": "3.9.6"
  },
  "orig_nbformat": 4,
  "vscode": {
   "interpreter": {
    "hash": "55f034acdeff15cd0d9c2f63548db147074384837d945a10a71f3caf4aceff5e"
   }
  }
 },
 "nbformat": 4,
 "nbformat_minor": 2
}
