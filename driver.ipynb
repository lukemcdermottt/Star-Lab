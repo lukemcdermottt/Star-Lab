{
 "cells": [
  {
   "cell_type": "code",
   "execution_count": 61,
   "metadata": {},
   "outputs": [],
   "source": [
    "#from model import *\n",
    "from data import *\n",
    "from torch.optim import Adam, lr_scheduler\n",
    "from torchvision import models\n",
    "import sklearn\n",
    "from sklearn.ensemble import RandomForestClassifier"
   ]
  },
  {
   "cell_type": "markdown",
   "metadata": {},
   "source": [
    "Load Data"
   ]
  },
  {
   "cell_type": "code",
   "execution_count": 80,
   "metadata": {},
   "outputs": [
    {
     "name": "stdout",
     "output_type": "stream",
     "text": [
      "65605\n"
     ]
    }
   ],
   "source": [
    "bs = 256\n",
    "train_data, train_labels, val_data, val_labels = get_data()\n",
    "training_set = Dataset(train_data, train_labels)\n",
    "val_set = Dataset(val_data, val_labels)\n",
    "training_generator = torch.utils.data.DataLoader(training_set, batch_size = bs, shuffle = True, num_workers = 6)\n",
    "val_generator = torch.utils.data.DataLoader(val_set, batch_size = bs, shuffle = True, num_workers = 6)"
   ]
  },
  {
   "cell_type": "markdown",
   "metadata": {},
   "source": [
    "Initialize the Model"
   ]
  },
  {
   "cell_type": "code",
   "execution_count": 5,
   "metadata": {},
   "outputs": [],
   "source": [
    "import torch\n",
    "import torch.nn as nn\n",
    "import torch.nn.functional as F\n",
    "import numpy as np \n",
    "import pandas as pd\n",
    "import matplotlib.pyplot as plt\n",
    "\n",
    "#Define the Neural Network\n",
    "class baseline(nn.Module):\n",
    "    def __init__(self):\n",
    "        super(baseline, self).__init__()\n",
    "        self.conv1 = nn.Conv2d(1, 128, kernel_size=4)\n",
    "        self.conv2 = nn.Conv2d(128, 256, kernel_size=2)\n",
    "        self.fc1 = nn.Linear(1024, 50)\n",
    "        self.fc2 = nn.Linear(50, 1)\n",
    "        self.sm = nn.Sigmoid()\n",
    "\n",
    "    def forward(self, x):\n",
    "        x = F.relu(F.max_pool2d(self.conv1(x), 2))\n",
    "        x = F.relu(F.max_pool2d((self.conv2(x)), 2))\n",
    "        x = torch.flatten(x, start_dim = 1)\n",
    "        x = F.relu(self.fc1(x))\n",
    "        x = F.dropout(x, training=self.training)\n",
    "        x = self.fc2(x)\n",
    "        return self.sm(x)"
   ]
  },
  {
   "cell_type": "code",
   "execution_count": 6,
   "metadata": {},
   "outputs": [],
   "source": [
    "model = baseline()\n",
    "criterion = nn.MSELoss()\n",
    "optimizer = Adam(model.parameters(), lr = .1)\n",
    "lrs = lr_scheduler.LinearLR(optimizer, total_iters=25)\n",
    "use_cuda = torch.cuda.is_available()\n",
    "device = torch.device(\"cuda:0\" if use_cuda else \"cpu\")\n",
    "torch.backends.cudnn.benchmark = True"
   ]
  },
  {
   "cell_type": "markdown",
   "metadata": {},
   "source": [
    "Training Procedure"
   ]
  },
  {
   "cell_type": "code",
   "execution_count": 7,
   "metadata": {},
   "outputs": [
    {
     "name": "stdout",
     "output_type": "stream",
     "text": [
      "Epoch: 0 Train Loss 0.06366771410102956 Val Loss: 0.06357505626510829\n",
      "Train Acc: 0.5083795043139909 Val Acc: 0.48433493589743587\n",
      "Epoch: 1 Train Loss 0.06280236541351769 Val Loss: 0.06357600877527148\n",
      "Train Acc: 0.5059971610133649 Val Acc: 0.48910256410256414\n",
      "Epoch: 2 Train Loss 0.06279679884028155 Val Loss: 0.06343177717644721\n",
      "Train Acc: 0.5047552145012124 Val Acc: 0.51328125\n",
      "Epoch: 3 Train Loss 0.06280215487640817 Val Loss: 0.06342864502221346\n",
      "Train Acc: 0.5077911327045621 Val Acc: 0.5140758547008547\n",
      "Epoch: 4 Train Loss 0.0628138954489259 Val Loss: 0.06376070412807167\n",
      "Train Acc: 0.503732888541138 Val Acc: 0.4859241452991453\n",
      "Epoch: 5 Train Loss 0.0627943252766272 Val Loss: 0.06344335729954764\n",
      "Train Acc: 0.5018241502424857 Val Acc: 0.5140758547008547\n",
      "Epoch: 6 Train Loss 0.06279122375417501 Val Loss: 0.0636106277233921\n",
      "Train Acc: 0.5056715851096825 Val Acc: 0.4859241452991453\n",
      "Epoch: 7 Train Loss 0.0627667714288691 Val Loss: 0.0641681847628206\n",
      "Train Acc: 0.5090154567050132 Val Acc: 0.4851295405982906\n",
      "Epoch: 8 Train Loss 0.06276439540670253 Val Loss: 0.0635143059771508\n",
      "Train Acc: 0.5078406960187222 Val Acc: 0.4851295405982906\n",
      "Epoch: 9 Train Loss 0.06281450820097234 Val Loss: 0.06361942080548033\n",
      "Train Acc: 0.5039496454350646 Val Acc: 0.48671875\n",
      "Epoch: 10 Train Loss 0.06280113010143396 Val Loss: 0.0635027292300947\n",
      "Train Acc: 0.5041624372638583 Val Acc: 0.4859241452991453\n",
      "Epoch: 11 Train Loss 0.06280072740628384 Val Loss: 0.06346950714942068\n",
      "Train Acc: 0.504859627883043 Val Acc: 0.5124866452991452\n",
      "Epoch: 12 Train Loss 0.06277288975252304 Val Loss: 0.06341632164549083\n",
      "Train Acc: 0.5068007475469464 Val Acc: 0.5156650641025641\n",
      "Epoch: 13 Train Loss 0.06278994624153711 Val Loss: 0.06343710096552968\n",
      "Train Acc: 0.5046356017030396 Val Acc: 0.5124866452991452\n",
      "Epoch: 14 Train Loss 0.06277057656552643 Val Loss: 0.06344290118431672\n",
      "Train Acc: 0.5082942554136356 Val Acc: 0.5116920405982905\n"
     ]
    },
    {
     "data": {
      "image/png": "[encoded data removed]",
      "text/plain": [
       "<Figure size 432x288 with 1 Axes>"
      ]
     },
     "metadata": {
      "needs_background": "light"
     },
     "output_type": "display_data"
    }
   ],
   "source": [
    "#Record to plot later\n",
    "epoch_train = []\n",
    "epoch_val = []\n",
    "for epoch in range(10):\n",
    "\n",
    "    running_loss = 0\n",
    "    val_loss = 0\n",
    "    train_acc = []\n",
    "    val_acc = []\n",
    "\n",
    "    #Main Training Procedure\n",
    "    for local_batch, local_labels in training_generator:\n",
    "\n",
    "        local_batch, local_labels = local_batch.to(device), local_labels.to(device)\n",
    "        optimizer.zero_grad()\n",
    "        outputs = torch.squeeze(model(local_batch))\n",
    "        loss = criterion(outputs, local_labels)\n",
    "        loss.backward()\n",
    "        optimizer.step()\n",
    "        lrs.step()\n",
    "\n",
    "        train_acc.append(np.mean(((outputs.data.cpu().numpy() - local_labels.data.cpu().numpy())**2 < .25)))\n",
    "        running_loss += loss.item() / (4*bs)\n",
    "\n",
    "    #Validation Proceudre\n",
    "    for local_batch, local_labels in val_generator:\n",
    "\n",
    "        local_batch, local_labels = local_batch.to(device), local_labels.to(device)\n",
    "        outputs = torch.squeeze(model(local_batch))\n",
    "        loss = criterion(outputs, local_labels)\n",
    "\n",
    "        val_acc.append(np.mean(((outputs.data.cpu().numpy() - local_labels.data.cpu().numpy())**2 < .25)))\n",
    "        val_loss += loss.item() / bs\n",
    "\n",
    "    print('Epoch:', epoch, 'Train Loss', running_loss, 'Val Loss:', val_loss)\n",
    "    print('Train Acc:', np.mean(np.array(train_acc)), 'Val Acc:', np.mean(np.array(val_acc)))\n",
    "    epoch_train.append(running_loss)\n",
    "    epoch_val.append(val_loss)\n",
    "\n",
    "plt.figure()\n",
    "plt.title('loss over epochs')\n",
    "plt.plot(epoch_val, label=f'validation loss')\n",
    "plt.plot(epoch_train, label=f'training loss')\n",
    "plt.legend()\n",
    "plt.show()\n"
   ]
  },
  {
   "cell_type": "markdown",
   "metadata": {},
   "source": [
    "Test outputs"
   ]
  },
  {
   "cell_type": "code",
   "execution_count": 59,
   "metadata": {},
   "outputs": [
    {
     "data": {
      "text/plain": [
       "tensor([1.0000, 1.0000, 1.0000, 1.0000, 1.0000, 1.0000, 1.0000, 1.0000, 0.9992,\n",
       "        1.0000], grad_fn=<SqueezeBackward0>)"
      ]
     },
     "execution_count": 59,
     "metadata": {},
     "output_type": "execute_result"
    }
   ],
   "source": [
    "torch.squeeze(model(torch.randn(10, 1, 16, 16)))"
   ]
  },
  {
   "cell_type": "markdown",
   "metadata": {},
   "source": [
    "Other ML Methods"
   ]
  },
  {
   "cell_type": "code",
   "execution_count": 9,
   "metadata": {},
   "outputs": [
    {
     "name": "stdout",
     "output_type": "stream",
     "text": [
      "65605\n"
     ]
    }
   ],
   "source": [
    "from sklearn.linear_model import LogisticRegression\n",
    "\n",
    "bin_df = pd.read_hdf('/Users/lukemcdermott/Desktop/Physics/spectral_templates_data_version_june20.h5', key = '/binaries')\n",
    "sin_df = pd.read_hdf('/Users/lukemcdermott/Desktop/Physics/spectral_templates_data_version_june20.h5', key = '/singles')\n",
    "     \n",
    "#Prep data for NN\n",
    "bin_data = bin_df.iloc[:,:441].to_numpy() #np.zeros(bin_df.shape[0])])\n",
    "sin_data = sin_df.iloc[:,:441].to_numpy() #np.zeros(bin_df.shape[0])])\n",
    "\n",
    "bin_data, sin_data  = reduce_dim(bin_data, sin_data, 2)\n",
    "sin_data = generate_data(sin_data, 3, 40000)\n",
    "data, labels = add_labels(bin_data, sin_data)\n",
    "idx = np.arange(len(labels))\n",
    "np.random.shuffle(idx)\n",
    "data = data[idx]\n",
    "labels = labels[idx]\n",
    "\n",
    "train_data, train_labels, test_data, test_labels = split_data(data, labels)\n",
    "\n",
    "clf = LogisticRegression(random_state = 0).fit(train_data, train_labels)"
   ]
  },
  {
   "cell_type": "code",
   "execution_count": 27,
   "metadata": {},
   "outputs": [
    {
     "name": "stdout",
     "output_type": "stream",
     "text": [
      "[0 0 0 0 0 1 1 0 0 0]\n",
      "[[0.53074304 0.46925696]\n",
      " [0.51682198 0.48317802]\n",
      " [0.51729058 0.48270942]\n",
      " [0.5023042  0.4976958 ]\n",
      " [0.52962039 0.47037961]\n",
      " [0.49820695 0.50179305]\n",
      " [0.49262233 0.50737767]\n",
      " [0.52522718 0.47477282]\n",
      " [0.5305802  0.4694198 ]\n",
      " [0.51416741 0.48583259]]\n",
      "0.5631020607243019\n"
     ]
    }
   ],
   "source": [
    "print(clf.predict(data[:10, :]))\n",
    "print(clf.predict_proba(data[:10, :]))\n",
    "print(clf.score(test_data,test_labels))\n",
    "d = clf.decision_function(test_data)"
   ]
  },
  {
   "cell_type": "markdown",
   "metadata": {},
   "source": [
    "Random Forests"
   ]
  },
  {
   "cell_type": "code",
   "execution_count": 84,
   "metadata": {},
   "outputs": [
    {
     "name": "stdout",
     "output_type": "stream",
     "text": [
      "0.9653700768199001\n"
     ]
    }
   ],
   "source": [
    "#train_data, train_labels, val_data, val_labels = train_data.numpy(), train_labels.numpy(), val_data.numpy(), val_labels.numpy()\n",
    "rf = RandomForestClassifier(max_depth = 15, random_state = 0)\n",
    "rf.fit(train_data.reshape(np.shape(train_labels)[0], 256), train_labels)\n",
    "print(rf.score(val_data.reshape(np.shape(val_labels)[0], 256),val_labels))"
   ]
  },
  {
   "cell_type": "code",
   "execution_count": 95,
   "metadata": {},
   "outputs": [
    {
     "name": "stdout",
     "output_type": "stream",
     "text": [
      "{'n_estimators': [200, 600, 1000], 'max_features': ['sqrt'], 'max_depth': [5, 17, 30, None], 'min_samples_split': [2, 5], 'min_samples_leaf': [1, 2], 'bootstrap': [True, False]}\n"
     ]
    }
   ],
   "source": [
    "#Parameters to try:\n",
    "from sklearn.model_selection import RandomizedSearchCV\n",
    "# Number of trees in random forest\n",
    "n_estimators = [int(x) for x in np.linspace(start = 200, stop = 1000, num = 3)]\n",
    "# Number of features to consider at every split\n",
    "max_features = ['sqrt']\n",
    "# Maximum number of levels in tree\n",
    "max_depth = [int(x) for x in np.linspace(5, 30, num = 3)]\n",
    "max_depth.append(None)\n",
    "# Minimum number of samples required to split a node\n",
    "min_samples_split = [2, 5]\n",
    "# Minimum number of samples required at each leaf node\n",
    "min_samples_leaf = [1, 2]\n",
    "# Method of selecting samples for training each tree\n",
    "bootstrap = [True, False]\n",
    "# Create the random grid\n",
    "random_grid = {'n_estimators': n_estimators,\n",
    "               'max_features': max_features,\n",
    "               'max_depth': max_depth,\n",
    "               'min_samples_split': min_samples_split,\n",
    "               'min_samples_leaf': min_samples_leaf,\n",
    "               'bootstrap': bootstrap}\n",
    "print(random_grid)\n"
   ]
  },
  {
   "cell_type": "code",
   "execution_count": 98,
   "metadata": {},
   "outputs": [
    {
     "name": "stdout",
     "output_type": "stream",
     "text": [
      "Fitting 3 folds for each of 30 candidates, totalling 90 fits\n",
      "[CV] END bootstrap=False, max_depth=30, max_features=sqrt, min_samples_leaf=1, min_samples_split=2, n_estimators=600; total time=15.2min\n",
      "[CV] END bootstrap=False, max_depth=30, max_features=sqrt, min_samples_leaf=1, min_samples_split=2, n_estimators=600; total time=15.3min\n",
      "[CV] END bootstrap=False, max_depth=30, max_features=sqrt, min_samples_leaf=2, min_samples_split=2, n_estimators=1000; total time=25.1min\n",
      "[CV] END bootstrap=False, max_depth=30, max_features=sqrt, min_samples_leaf=2, min_samples_split=2, n_estimators=1000; total time=25.2min\n",
      "[CV] END bootstrap=False, max_depth=30, max_features=sqrt, min_samples_leaf=2, min_samples_split=2, n_estimators=1000; total time=25.2min\n",
      "[CV] END bootstrap=False, max_depth=30, max_features=sqrt, min_samples_leaf=1, min_samples_split=5, n_estimators=1000; total time=25.4min\n",
      "[CV] END bootstrap=False, max_depth=30, max_features=sqrt, min_samples_leaf=1, min_samples_split=5, n_estimators=1000; total time=25.5min\n",
      "[CV] END bootstrap=False, max_depth=30, max_features=sqrt, min_samples_leaf=1, min_samples_split=5, n_estimators=1000; total time=25.5min\n",
      "[CV] END bootstrap=True, max_depth=30, max_features=sqrt, min_samples_leaf=2, min_samples_split=5, n_estimators=200; total time= 3.2min\n",
      "[CV] END bootstrap=True, max_depth=30, max_features=sqrt, min_samples_leaf=2, min_samples_split=5, n_estimators=200; total time= 3.1min\n",
      "[CV] END bootstrap=True, max_depth=30, max_features=sqrt, min_samples_leaf=2, min_samples_split=5, n_estimators=200; total time= 3.1min\n",
      "[CV] END bootstrap=False, max_depth=30, max_features=sqrt, min_samples_leaf=1, min_samples_split=2, n_estimators=600; total time=15.5min\n",
      "[CV] END bootstrap=False, max_depth=17, max_features=sqrt, min_samples_leaf=2, min_samples_split=5, n_estimators=200; total time= 4.0min\n",
      "[CV] END bootstrap=False, max_depth=None, max_features=sqrt, min_samples_leaf=2, min_samples_split=5, n_estimators=600; total time=19.2min\n",
      "[CV] END bootstrap=False, max_depth=17, max_features=sqrt, min_samples_leaf=2, min_samples_split=5, n_estimators=200; total time= 4.0min\n",
      "[CV] END bootstrap=False, max_depth=17, max_features=sqrt, min_samples_leaf=2, min_samples_split=5, n_estimators=200; total time= 4.0min\n",
      "[CV] END bootstrap=True, max_depth=None, max_features=sqrt, min_samples_leaf=2, min_samples_split=2, n_estimators=200; total time= 3.7min\n",
      "[CV] END bootstrap=True, max_depth=None, max_features=sqrt, min_samples_leaf=2, min_samples_split=2, n_estimators=200; total time= 3.8min\n",
      "[CV] END bootstrap=True, max_depth=5, max_features=sqrt, min_samples_leaf=1, min_samples_split=2, n_estimators=200; total time= 1.0min\n",
      "[CV] END bootstrap=True, max_depth=5, max_features=sqrt, min_samples_leaf=1, min_samples_split=2, n_estimators=200; total time=  59.9s\n",
      "[CV] END bootstrap=True, max_depth=5, max_features=sqrt, min_samples_leaf=1, min_samples_split=2, n_estimators=200; total time= 1.0min\n",
      "[CV] END bootstrap=True, max_depth=None, max_features=sqrt, min_samples_leaf=2, min_samples_split=2, n_estimators=200; total time= 3.8min\n",
      "[CV] END bootstrap=False, max_depth=30, max_features=sqrt, min_samples_leaf=2, min_samples_split=2, n_estimators=600; total time=15.3min\n",
      "[CV] END bootstrap=True, max_depth=5, max_features=sqrt, min_samples_leaf=2, min_samples_split=5, n_estimators=600; total time= 3.0min\n",
      "[CV] END bootstrap=True, max_depth=5, max_features=sqrt, min_samples_leaf=2, min_samples_split=5, n_estimators=600; total time= 3.0min\n",
      "[CV] END bootstrap=True, max_depth=5, max_features=sqrt, min_samples_leaf=2, min_samples_split=5, n_estimators=600; total time= 3.0min\n",
      "[CV] END bootstrap=False, max_depth=30, max_features=sqrt, min_samples_leaf=2, min_samples_split=2, n_estimators=600; total time=15.3min\n",
      "[CV] END bootstrap=False, max_depth=30, max_features=sqrt, min_samples_leaf=2, min_samples_split=2, n_estimators=600; total time=15.2min\n",
      "[CV] END bootstrap=False, max_depth=None, max_features=sqrt, min_samples_leaf=2, min_samples_split=5, n_estimators=600; total time=19.2min\n",
      "[CV] END bootstrap=False, max_depth=None, max_features=sqrt, min_samples_leaf=2, min_samples_split=5, n_estimators=600; total time=19.4min\n",
      "[CV] END bootstrap=True, max_depth=30, max_features=sqrt, min_samples_leaf=2, min_samples_split=2, n_estimators=200; total time= 3.2min\n",
      "[CV] END bootstrap=True, max_depth=30, max_features=sqrt, min_samples_leaf=2, min_samples_split=2, n_estimators=200; total time= 3.1min\n",
      "[CV] END bootstrap=True, max_depth=17, max_features=sqrt, min_samples_leaf=2, min_samples_split=2, n_estimators=200; total time= 2.5min\n",
      "[CV] END bootstrap=True, max_depth=30, max_features=sqrt, min_samples_leaf=2, min_samples_split=2, n_estimators=200; total time= 3.2min\n",
      "[CV] END bootstrap=True, max_depth=17, max_features=sqrt, min_samples_leaf=2, min_samples_split=2, n_estimators=200; total time= 2.5min\n",
      "[CV] END bootstrap=True, max_depth=17, max_features=sqrt, min_samples_leaf=2, min_samples_split=2, n_estimators=200; total time= 2.5min\n",
      "[CV] END bootstrap=True, max_depth=5, max_features=sqrt, min_samples_leaf=1, min_samples_split=5, n_estimators=600; total time= 3.0min\n",
      "[CV] END bootstrap=True, max_depth=5, max_features=sqrt, min_samples_leaf=1, min_samples_split=5, n_estimators=600; total time= 3.1min\n",
      "[CV] END bootstrap=True, max_depth=5, max_features=sqrt, min_samples_leaf=1, min_samples_split=5, n_estimators=600; total time= 3.0min\n",
      "[CV] END bootstrap=False, max_depth=17, max_features=sqrt, min_samples_leaf=1, min_samples_split=5, n_estimators=600; total time=12.3min\n",
      "[CV] END bootstrap=False, max_depth=17, max_features=sqrt, min_samples_leaf=1, min_samples_split=5, n_estimators=600; total time=12.2min\n",
      "[CV] END bootstrap=False, max_depth=17, max_features=sqrt, min_samples_leaf=1, min_samples_split=5, n_estimators=600; total time=12.2min\n",
      "[CV] END bootstrap=True, max_depth=30, max_features=sqrt, min_samples_leaf=2, min_samples_split=2, n_estimators=600; total time= 9.4min\n",
      "[CV] END bootstrap=True, max_depth=17, max_features=sqrt, min_samples_leaf=1, min_samples_split=2, n_estimators=200; total time= 2.5min\n",
      "[CV] END bootstrap=True, max_depth=17, max_features=sqrt, min_samples_leaf=1, min_samples_split=2, n_estimators=200; total time= 2.5min\n",
      "[CV] END bootstrap=True, max_depth=30, max_features=sqrt, min_samples_leaf=2, min_samples_split=2, n_estimators=600; total time= 9.3min\n",
      "[CV] END bootstrap=True, max_depth=17, max_features=sqrt, min_samples_leaf=1, min_samples_split=2, n_estimators=200; total time= 2.5min\n",
      "[CV] END bootstrap=True, max_depth=30, max_features=sqrt, min_samples_leaf=2, min_samples_split=2, n_estimators=600; total time= 9.3min\n",
      "[CV] END bootstrap=True, max_depth=17, max_features=sqrt, min_samples_leaf=2, min_samples_split=5, n_estimators=600; total time= 7.4min\n",
      "[CV] END bootstrap=True, max_depth=17, max_features=sqrt, min_samples_leaf=2, min_samples_split=5, n_estimators=600; total time= 7.3min\n",
      "[CV] END bootstrap=True, max_depth=30, max_features=sqrt, min_samples_leaf=1, min_samples_split=2, n_estimators=1000; total time=15.7min\n",
      "[CV] END bootstrap=True, max_depth=30, max_features=sqrt, min_samples_leaf=1, min_samples_split=2, n_estimators=1000; total time=15.8min\n",
      "[CV] END bootstrap=True, max_depth=17, max_features=sqrt, min_samples_leaf=2, min_samples_split=5, n_estimators=600; total time= 7.5min\n",
      "[CV] END bootstrap=False, max_depth=5, max_features=sqrt, min_samples_leaf=1, min_samples_split=5, n_estimators=1000; total time= 7.9min\n",
      "[CV] END bootstrap=False, max_depth=5, max_features=sqrt, min_samples_leaf=1, min_samples_split=5, n_estimators=1000; total time= 7.9min\n",
      "[CV] END bootstrap=True, max_depth=30, max_features=sqrt, min_samples_leaf=1, min_samples_split=2, n_estimators=1000; total time=15.9min\n",
      "[CV] END bootstrap=False, max_depth=5, max_features=sqrt, min_samples_leaf=1, min_samples_split=5, n_estimators=1000; total time= 7.9min\n",
      "[CV] END bootstrap=True, max_depth=None, max_features=sqrt, min_samples_leaf=1, min_samples_split=5, n_estimators=600; total time=11.7min\n",
      "[CV] END bootstrap=True, max_depth=None, max_features=sqrt, min_samples_leaf=1, min_samples_split=5, n_estimators=600; total time=11.7min\n",
      "[CV] END bootstrap=True, max_depth=None, max_features=sqrt, min_samples_leaf=1, min_samples_split=5, n_estimators=600; total time=11.7min\n",
      "[CV] END bootstrap=False, max_depth=17, max_features=sqrt, min_samples_leaf=2, min_samples_split=2, n_estimators=600; total time=12.1min\n",
      "[CV] END bootstrap=True, max_depth=17, max_features=sqrt, min_samples_leaf=1, min_samples_split=5, n_estimators=200; total time= 2.5min\n",
      "[CV] END bootstrap=True, max_depth=17, max_features=sqrt, min_samples_leaf=1, min_samples_split=5, n_estimators=200; total time= 2.5min\n",
      "[CV] END bootstrap=True, max_depth=17, max_features=sqrt, min_samples_leaf=1, min_samples_split=5, n_estimators=200; total time= 2.5min\n",
      "[CV] END bootstrap=False, max_depth=17, max_features=sqrt, min_samples_leaf=2, min_samples_split=2, n_estimators=600; total time=12.0min\n",
      "[CV] END bootstrap=False, max_depth=None, max_features=sqrt, min_samples_leaf=1, min_samples_split=2, n_estimators=600; total time=19.8min\n",
      "[CV] END bootstrap=False, max_depth=None, max_features=sqrt, min_samples_leaf=1, min_samples_split=2, n_estimators=600; total time=19.8min\n",
      "[CV] END bootstrap=False, max_depth=None, max_features=sqrt, min_samples_leaf=1, min_samples_split=2, n_estimators=600; total time=20.0min\n",
      "[CV] END bootstrap=True, max_depth=5, max_features=sqrt, min_samples_leaf=2, min_samples_split=5, n_estimators=200; total time= 1.0min\n",
      "[CV] END bootstrap=True, max_depth=5, max_features=sqrt, min_samples_leaf=2, min_samples_split=5, n_estimators=200; total time= 1.0min\n",
      "[CV] END bootstrap=True, max_depth=5, max_features=sqrt, min_samples_leaf=2, min_samples_split=5, n_estimators=200; total time= 1.0min\n",
      "[CV] END bootstrap=False, max_depth=17, max_features=sqrt, min_samples_leaf=2, min_samples_split=2, n_estimators=600; total time=12.1min\n",
      "[CV] END bootstrap=True, max_depth=None, max_features=sqrt, min_samples_leaf=1, min_samples_split=5, n_estimators=200; total time= 3.9min\n",
      "[CV] END bootstrap=True, max_depth=None, max_features=sqrt, min_samples_leaf=1, min_samples_split=5, n_estimators=200; total time= 3.9min\n",
      "[CV] END bootstrap=True, max_depth=None, max_features=sqrt, min_samples_leaf=1, min_samples_split=5, n_estimators=200; total time= 3.9min\n",
      "[CV] END bootstrap=True, max_depth=5, max_features=sqrt, min_samples_leaf=2, min_samples_split=5, n_estimators=1000; total time= 5.1min\n",
      "[CV] END bootstrap=False, max_depth=17, max_features=sqrt, min_samples_leaf=2, min_samples_split=2, n_estimators=1000; total time=20.2min\n",
      "[CV] END bootstrap=False, max_depth=17, max_features=sqrt, min_samples_leaf=2, min_samples_split=2, n_estimators=1000; total time=20.1min\n",
      "[CV] END bootstrap=True, max_depth=5, max_features=sqrt, min_samples_leaf=2, min_samples_split=5, n_estimators=1000; total time= 5.1min\n",
      "[CV] END bootstrap=True, max_depth=5, max_features=sqrt, min_samples_leaf=2, min_samples_split=5, n_estimators=1000; total time= 5.0min\n",
      "[CV] END bootstrap=False, max_depth=17, max_features=sqrt, min_samples_leaf=2, min_samples_split=2, n_estimators=1000; total time=20.2min\n",
      "[CV] END bootstrap=False, max_depth=None, max_features=sqrt, min_samples_leaf=1, min_samples_split=5, n_estimators=600; total time=19.9min\n",
      "[CV] END bootstrap=True, max_depth=None, max_features=sqrt, min_samples_leaf=2, min_samples_split=5, n_estimators=200; total time= 3.8min\n",
      "[CV] END bootstrap=False, max_depth=None, max_features=sqrt, min_samples_leaf=1, min_samples_split=5, n_estimators=600; total time=20.0min\n",
      "[CV] END bootstrap=True, max_depth=None, max_features=sqrt, min_samples_leaf=2, min_samples_split=5, n_estimators=200; total time= 3.8min\n",
      "[CV] END bootstrap=True, max_depth=None, max_features=sqrt, min_samples_leaf=2, min_samples_split=5, n_estimators=200; total time= 3.8min\n",
      "[CV] END bootstrap=False, max_depth=None, max_features=sqrt, min_samples_leaf=1, min_samples_split=5, n_estimators=600; total time=19.9min\n",
      "[CV] END bootstrap=False, max_depth=5, max_features=sqrt, min_samples_leaf=2, min_samples_split=2, n_estimators=600; total time= 3.7min\n",
      "[CV] END bootstrap=False, max_depth=5, max_features=sqrt, min_samples_leaf=2, min_samples_split=2, n_estimators=600; total time= 3.7min\n",
      "[CV] END bootstrap=False, max_depth=5, max_features=sqrt, min_samples_leaf=2, min_samples_split=2, n_estimators=600; total time= 3.4min\n"
     ]
    },
    {
     "data": {
      "text/html": [
       "<style>#sk-container-id-3 {color: black;background-color: white;}#sk-container-id-3 pre{padding: 0;}#sk-container-id-3 div.sk-toggleable {background-color: white;}#sk-container-id-3 label.sk-toggleable__label {cursor: pointer;display: block;width: 100%;margin-bottom: 0;padding: 0.3em;box-sizing: border-box;text-align: center;}#sk-container-id-3 label.sk-toggleable__label-arrow:before {content: \"▸\";float: left;margin-right: 0.25em;color: #696969;}#sk-container-id-3 label.sk-toggleable__label-arrow:hover:before {color: black;}#sk-container-id-3 div.sk-estimator:hover label.sk-toggleable__label-arrow:before {color: black;}#sk-container-id-3 div.sk-toggleable__content {max-height: 0;max-width: 0;overflow: hidden;text-align: left;background-color: #f0f8ff;}#sk-container-id-3 div.sk-toggleable__content pre {margin: 0.2em;color: black;border-radius: 0.25em;background-color: #f0f8ff;}#sk-container-id-3 input.sk-toggleable__control:checked~div.sk-toggleable__content {max-height: 200px;max-width: 100%;overflow: auto;}#sk-container-id-3 input.sk-toggleable__control:checked~label.sk-toggleable__label-arrow:before {content: \"▾\";}#sk-container-id-3 div.sk-estimator input.sk-toggleable__control:checked~label.sk-toggleable__label {background-color: #d4ebff;}#sk-container-id-3 div.sk-label input.sk-toggleable__control:checked~label.sk-toggleable__label {background-color: #d4ebff;}#sk-container-id-3 input.sk-hidden--visually {border: 0;clip: rect(1px 1px 1px 1px);clip: rect(1px, 1px, 1px, 1px);height: 1px;margin: -1px;overflow: hidden;padding: 0;position: absolute;width: 1px;}#sk-container-id-3 div.sk-estimator {font-family: monospace;background-color: #f0f8ff;border: 1px dotted black;border-radius: 0.25em;box-sizing: border-box;margin-bottom: 0.5em;}#sk-container-id-3 div.sk-estimator:hover {background-color: #d4ebff;}#sk-container-id-3 div.sk-parallel-item::after {content: \"\";width: 100%;border-bottom: 1px solid gray;flex-grow: 1;}#sk-container-id-3 div.sk-label:hover label.sk-toggleable__label {background-color: #d4ebff;}#sk-container-id-3 div.sk-serial::before {content: \"\";position: absolute;border-left: 1px solid gray;box-sizing: border-box;top: 0;bottom: 0;left: 50%;z-index: 0;}#sk-container-id-3 div.sk-serial {display: flex;flex-direction: column;align-items: center;background-color: white;padding-right: 0.2em;padding-left: 0.2em;position: relative;}#sk-container-id-3 div.sk-item {position: relative;z-index: 1;}#sk-container-id-3 div.sk-parallel {display: flex;align-items: stretch;justify-content: center;background-color: white;position: relative;}#sk-container-id-3 div.sk-item::before, #sk-container-id-3 div.sk-parallel-item::before {content: \"\";position: absolute;border-left: 1px solid gray;box-sizing: border-box;top: 0;bottom: 0;left: 50%;z-index: -1;}#sk-container-id-3 div.sk-parallel-item {display: flex;flex-direction: column;z-index: 1;position: relative;background-color: white;}#sk-container-id-3 div.sk-parallel-item:first-child::after {align-self: flex-end;width: 50%;}#sk-container-id-3 div.sk-parallel-item:last-child::after {align-self: flex-start;width: 50%;}#sk-container-id-3 div.sk-parallel-item:only-child::after {width: 0;}#sk-container-id-3 div.sk-dashed-wrapped {border: 1px dashed gray;margin: 0 0.4em 0.5em 0.4em;box-sizing: border-box;padding-bottom: 0.4em;background-color: white;}#sk-container-id-3 div.sk-label label {font-family: monospace;font-weight: bold;display: inline-block;line-height: 1.2em;}#sk-container-id-3 div.sk-label-container {text-align: center;}#sk-container-id-3 div.sk-container {/* jupyter's `normalize.less` sets `[hidden] { display: none; }` but bootstrap.min.css set `[hidden] { display: none !important; }` so we also need the `!important` here to be able to override the default hidden behavior on the sphinx rendered scikit-learn.org. See: https://github.com/scikit-learn/scikit-learn/issues/21755 */display: inline-block !important;position: relative;}#sk-container-id-3 div.sk-text-repr-fallback {display: none;}</style><div id=\"sk-container-id-3\" class=\"sk-top-container\"><div class=\"sk-text-repr-fallback\"><pre>RandomizedSearchCV(cv=3, estimator=RandomForestClassifier(random_state=42),\n",
       "                   n_iter=30, n_jobs=-1,\n",
       "                   param_distributions={&#x27;bootstrap&#x27;: [True, False],\n",
       "                                        &#x27;max_depth&#x27;: [5, 17, 30, None],\n",
       "                                        &#x27;max_features&#x27;: [&#x27;sqrt&#x27;],\n",
       "                                        &#x27;min_samples_leaf&#x27;: [1, 2],\n",
       "                                        &#x27;min_samples_split&#x27;: [2, 5],\n",
       "                                        &#x27;n_estimators&#x27;: [200, 600, 1000]},\n",
       "                   random_state=42, verbose=2)</pre><b>In a Jupyter environment, please rerun this cell to show the HTML representation or trust the notebook. <br />On GitHub, the HTML representation is unable to render, please try loading this page with nbviewer.org.</b></div><div class=\"sk-container\" hidden><div class=\"sk-item sk-dashed-wrapped\"><div class=\"sk-label-container\"><div class=\"sk-label sk-toggleable\"><input class=\"sk-toggleable__control sk-hidden--visually\" id=\"sk-estimator-id-3\" type=\"checkbox\" ><label for=\"sk-estimator-id-3\" class=\"sk-toggleable__label sk-toggleable__label-arrow\">RandomizedSearchCV</label><div class=\"sk-toggleable__content\"><pre>RandomizedSearchCV(cv=3, estimator=RandomForestClassifier(random_state=42),\n",
       "                   n_iter=30, n_jobs=-1,\n",
       "                   param_distributions={&#x27;bootstrap&#x27;: [True, False],\n",
       "                                        &#x27;max_depth&#x27;: [5, 17, 30, None],\n",
       "                                        &#x27;max_features&#x27;: [&#x27;sqrt&#x27;],\n",
       "                                        &#x27;min_samples_leaf&#x27;: [1, 2],\n",
       "                                        &#x27;min_samples_split&#x27;: [2, 5],\n",
       "                                        &#x27;n_estimators&#x27;: [200, 600, 1000]},\n",
       "                   random_state=42, verbose=2)</pre></div></div></div><div class=\"sk-parallel\"><div class=\"sk-parallel-item\"><div class=\"sk-item\"><div class=\"sk-label-container\"><div class=\"sk-label sk-toggleable\"><input class=\"sk-toggleable__control sk-hidden--visually\" id=\"sk-estimator-id-4\" type=\"checkbox\" ><label for=\"sk-estimator-id-4\" class=\"sk-toggleable__label sk-toggleable__label-arrow\">estimator: RandomForestClassifier</label><div class=\"sk-toggleable__content\"><pre>RandomForestClassifier(random_state=42)</pre></div></div></div><div class=\"sk-serial\"><div class=\"sk-item\"><div class=\"sk-estimator sk-toggleable\"><input class=\"sk-toggleable__control sk-hidden--visually\" id=\"sk-estimator-id-5\" type=\"checkbox\" ><label for=\"sk-estimator-id-5\" class=\"sk-toggleable__label sk-toggleable__label-arrow\">RandomForestClassifier</label><div class=\"sk-toggleable__content\"><pre>RandomForestClassifier(random_state=42)</pre></div></div></div></div></div></div></div></div></div></div>"
      ],
      "text/plain": [
       "RandomizedSearchCV(cv=3, estimator=RandomForestClassifier(random_state=42),\n",
       "                   n_iter=30, n_jobs=-1,\n",
       "                   param_distributions={'bootstrap': [True, False],\n",
       "                                        'max_depth': [5, 17, 30, None],\n",
       "                                        'max_features': ['sqrt'],\n",
       "                                        'min_samples_leaf': [1, 2],\n",
       "                                        'min_samples_split': [2, 5],\n",
       "                                        'n_estimators': [200, 600, 1000]},\n",
       "                   random_state=42, verbose=2)"
      ]
     },
     "execution_count": 98,
     "metadata": {},
     "output_type": "execute_result"
    }
   ],
   "source": [
    "# Use the random grid to search for best hyperparameters\n",
    "# First create the base model to tune\n",
    "rf = RandomForestClassifier(random_state = 42)\n",
    "# Random search of parameters, using 3 fold cross validation, \n",
    "# search across 100 different combinations, and use all available cores\n",
    "rf_random = RandomizedSearchCV(estimator = rf, param_distributions = random_grid, n_iter = 30, cv = 3, verbose=2, random_state=42, n_jobs = -1)\n",
    "# Fit the random search model\n",
    "rf_random.fit(train_data.reshape(np.shape(train_labels)[0], 256), train_labels)"
   ]
  },
  {
   "cell_type": "code",
   "execution_count": 99,
   "metadata": {},
   "outputs": [
    {
     "data": {
      "text/plain": [
       "{'n_estimators': 600,\n",
       " 'min_samples_split': 5,\n",
       " 'min_samples_leaf': 1,\n",
       " 'max_features': 'sqrt',\n",
       " 'max_depth': 17,\n",
       " 'bootstrap': False}"
      ]
     },
     "execution_count": 99,
     "metadata": {},
     "output_type": "execute_result"
    }
   ],
   "source": [
    "rf_random.best_params_"
   ]
  },
  {
   "cell_type": "code",
   "execution_count": 102,
   "metadata": {},
   "outputs": [
    {
     "name": "stdout",
     "output_type": "stream",
     "text": [
      "0.9714059261065724\n"
     ]
    }
   ],
   "source": [
    "print(rf_random.score(val_data.reshape(np.shape(val_labels)[0], 256), val_labels))"
   ]
  },
  {
   "cell_type": "code",
   "execution_count": 103,
   "metadata": {},
   "outputs": [],
   "source": [
    "#Load Dataframes\n",
    "b = pd.read_hdf('/Users/lukemcdermott/Desktop/Physics/spectral_templates_data_version_june20.h5', key = '/binaries')\n",
    "s = pd.read_hdf('/Users/lukemcdermott/Desktop/Physics/spectral_templates_data_version_june20.h5', key = '/singles')\n",
    "     \n",
    "    #Prep data for NN\n",
    "b = bin_df.iloc[:,:441].to_numpy() #np.zeros(bin_df.shape[0])])\n",
    "s = sin_df.iloc[:,:441].to_numpy() #np.zeros(bin_df.shape[0])])\n",
    "\n",
    "b, s  = reduce_dim(b, s, 256)"
   ]
  },
  {
   "cell_type": "code",
   "execution_count": 114,
   "metadata": {},
   "outputs": [],
   "source": [
    "d = rf_random.predict(s)\n",
    "c = rf_random.predict(b)"
   ]
  },
  {
   "cell_type": "code",
   "execution_count": 118,
   "metadata": {},
   "outputs": [
    {
     "name": "stdout",
     "output_type": "stream",
     "text": [
      "0.736359741001714\n"
     ]
    }
   ],
   "source": [
    "sum = 0\n",
    "for i in c:\n",
    "    sum += i\n",
    "\n",
    "print(1 - sum / len(c))"
   ]
  }
 ],
 "metadata": {
  "kernelspec": {
   "display_name": "Python 3.9.13 ('base')",
   "language": "python",
   "name": "python3"
  },
  "language_info": {
   "codemirror_mode": {
    "name": "ipython",
    "version": 3
   },
   "file_extension": ".py",
   "mimetype": "text/x-python",
   "name": "python",
   "nbconvert_exporter": "python",
   "pygments_lexer": "ipython3",
   "version": "3.9.13"
  },
  "orig_nbformat": 4,
  "vscode": {
   "interpreter": {
    "hash": "92e2d80ff7a0b4902d8e41ed473af89fdf1c03a37ec5b3f4d5d6f0ba3ab7e737"
   }
  }
 },
 "nbformat": 4,
 "nbformat_minor": 2
}
