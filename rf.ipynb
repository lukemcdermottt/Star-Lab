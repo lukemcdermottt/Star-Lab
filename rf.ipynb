{
 "cells": [
  {
   "cell_type": "code",
   "execution_count": 172,
   "metadata": {},
   "outputs": [],
   "source": [
    "import random\n",
    "import numpy as np\n",
    "import matplotlib.pyplot as plt\n",
    "import sklearn\n",
    "from sklearn.ensemble import RandomForestClassifier\n",
    "from sklearn.metrics import confusion_matrix, accuracy_score, precision_score, classification_report\n",
    "from sklearn.preprocessing import MinMaxScaler, StandardScaler\n",
    "from sklearn.model_selection import train_test_split, KFold,RepeatedKFold, GridSearchCV,  RandomizedSearchCV\n",
    "import math\n",
    "from data import *\n",
    "import pandas as pd\n",
    "from itertools import islice\n",
    "import seaborn as sns; sns.set_theme()"
   ]
  },
  {
   "cell_type": "code",
   "execution_count": 2,
   "metadata": {},
   "outputs": [],
   "source": [
    "bin_df = pd.read_hdf('/Users/lukemcdermott/Desktop/Physics/spectral_templates_data_version_june20.h5', key = '/binaries')\n",
    "sin_df = pd.read_hdf('/Users/lukemcdermott/Desktop/Physics/spectral_templates_data_version_june20.h5', key = '/singles')"
   ]
  },
  {
   "cell_type": "code",
   "execution_count": null,
   "metadata": {},
   "outputs": [],
   "source": [
    "#Experiment comparing noise vs no noise on different folds\n",
    "noise_accuracies = []\n",
    "raw_accuracies = []\n",
    "\n",
    "for i in range(10): #For each sample or fold\n",
    "    binary_sample = bin_df.sample(n = len(sin_df.index))\n",
    "\n",
    "    #Preprocess data\n",
    "    x = np.insert(np.arange(441), 0, -1)\n",
    "    bin_data = binary_sample.iloc[:,x].to_numpy()\n",
    "    x[0] = -2\n",
    "    sin_data = sin_df.iloc[:,x].to_numpy()\n",
    "    \n",
    "    #Create raw data\n",
    "    raw_data, raw_labels = add_labels(bin_data, sin_data)\n",
    "\n",
    "    #Create noise data\n",
    "    noise_sin = add_noise(sin_data)\n",
    "    noise_bin = add_noise(bin_data)\n",
    "    noise_data, noise_labels = add_labels(noise_bin, noise_sin)\n",
    "\n",
    "    #Create training and test data\n",
    "    noise_train_data, noise_train_labels = noise_data[:int(len(noise_data)*0.8)], noise_labels[:int(len(noise_data)*0.8)]\n",
    "    noise_test_data, noise_test_labels = noise_data[int(len(noise_data)*0.8):], noise_labels[int(len(noise_data)*0.8):]\n",
    "\n",
    "    raw_train_data, raw_train_labels = raw_data[:int(len(raw_data)*0.8)], raw_labels[:int(len(raw_data)*0.8)]\n",
    "    raw_test_data, raw_test_labels = raw_data[int(len(raw_data)*0.8):], raw_labels[int(len(raw_data)*0.8):]\n",
    "    \n",
    "    noise_RF = RandomForestClassifier(random_state = 0)\n",
    "    noise_RF.fit(noise_train_data, noise_train_labels)\n",
    "    n_acc = noise_RF.score(noise_test_data, noise_test_labels)\n",
    "\n",
    "    raw_RF = RandomForestClassifier(random_state = 0)\n",
    "    raw_RF.fit(raw_train_data, raw_train_labels)\n",
    "    r_acc = raw_RF.score(raw_test_data, raw_test_labels)\n",
    "\n",
    "    noise_accuracies.append(n_acc)\n",
    "    raw_accuracies.append(r_acc)\n",
    "    \n",
    "    #Save best sample\n",
    "    try:\n",
    "        if n_acc > best_n_acc:\n",
    "            np.save('/Users/lukemcdermott/Desktop/Physics/Star-Lab/best-model-noise.npy', binary_sample)\n",
    "            best_model_noise = noise_RF\n",
    "            best_n_acc = n_acc\n",
    "    except:\n",
    "        np.save('/Users/lukemcdermott/Desktop/Physics/Star-Lab/best-model-noise.npy', binary_sample)\n",
    "        best_model_noise = noise_RF\n",
    "        best_n_acc = n_acc\n",
    "    try:\n",
    "        if r_acc > best_r_acc:\n",
    "            np.save('/Users/lukemcdermott/Desktop/Physics/Star-Lab/best-model-raw.npy', binary_sample)\n",
    "            best_model_raw = raw_RF\n",
    "            best_r_acc = r_acc\n",
    "    except:\n",
    "        np.save('/Users/lukemcdermott/Desktop/Physics/Star-Lab/best-model-raw.npy', binary_sample)\n",
    "        best_model_raw = raw_RF\n",
    "        best_r_acc = r_acc\n",
    "\n",
    "    print('Noise Accuracy: ', n_acc)\n",
    "    grid_test(noise_RF)\n",
    "    print('Raw Accuracy: ', r_acc)\n",
    "    grid_test(raw_RF)\n",
    "\n",
    "print('raw accuracy:', raw_accuracies)\n",
    "print('noise accuracy:', noise_accuracies)"
   ]
  },
  {
   "cell_type": "code",
   "execution_count": 202,
   "metadata": {},
   "outputs": [],
   "source": [
    "class data():\n",
    "    def __init__(self, use_noise = False):\n",
    "        self.use_noise = use_noise\n",
    "        self.bin_df = pd.read_hdf('/Users/lukemcdermott/Desktop/Physics/spectral_templates_data_version_june20.h5', key = '/binaries')\n",
    "        self.sin_df = pd.read_hdf('/Users/lukemcdermott/Desktop/Physics/spectral_templates_data_version_june20.h5', key = '/singles')\n",
    "        binary_sample = self.sample_binaries()\n",
    "        \n",
    "        #preprocess\n",
    "        x = np.insert(np.arange(441), 0, -1)\n",
    "        self.bin_data = binary_sample.iloc[:,x].to_numpy()\n",
    "        x[0] = -2\n",
    "        self.sin_data = self.sin_df.iloc[:,x].to_numpy()\n",
    "\n",
    "        if self.use_noise:\n",
    "            self.bin_data = self.add_noise(bin_data)\n",
    "            self.sin_data = self.add_noise(sin_data)\n",
    "\n",
    "        data, labels = add_labels(bin_data, sin_data)\n",
    "\n",
    "        #Create training and test data\n",
    "        self.train_data, self.train_labels = data[:int(len(data)*0.8)], labels[:int(len(data)*0.8)]\n",
    "        self.test_data, self.test_labels = data[int(len(data)*0.8):], labels[int(len(data)*0.8):]\n",
    "\n",
    "\n",
    "    def sample_binaries(self):\n",
    "        return self.bin_df.sample(n = len(sin_df.index))\n",
    "\n",
    "    #From Malina's Code - Old Noise\n",
    "    def add_noise(self,data):\n",
    "        \"\"\"Adds noise between 2 and 5 percent to the binary dataset for any flux matrix\"\"\"\n",
    "        n1, n2 = 0, random.uniform(0.02, 0.05)\n",
    "        noise = np.random.normal(n1, n2, [len(data), 441])\n",
    "        noisefunc = np.append(noise, np.zeros((len(data),1)), axis = 1)\n",
    "        noisyfluxfunc = np.add(data.astype(float), noisefunc)\n",
    "        return noisyfluxfunc\n",
    "    \n",
    "    def get_data(self):\n",
    "        return self.train_data, self.train_labels, self.test_data, self.test_labels"
   ]
  },
  {
   "cell_type": "code",
   "execution_count": 193,
   "metadata": {},
   "outputs": [],
   "source": [
    "class run_model():\n",
    "    def __init__(self, train_data, train_labels, test_data, test_labels, param_search = False):\n",
    "        self.best_model = None\n",
    "        self.train_data = train_data\n",
    "        self.train_labels = train_labels\n",
    "        self.test_data = test_data\n",
    "        self.test_labels = test_labels\n",
    "        self.param_search = param_search\n",
    "\n",
    "    #Parameter Search Later\n",
    "    def find_model(self):\n",
    "        return 0\n",
    "    \n",
    "    def rf(self):\n",
    "        self.best_model = RandomForestClassifier(random_state = 0)\n",
    "        self.best_model.fit(self.train_data, self.train_labels)\n",
    "        self.accuracy = self.best_model.score(self.test_data, self.test_labels)\n",
    "        bin_results, _ = self.grid_test(self.best_model)\n",
    "        self.acc_map(bin_results)\n",
    "        print('Model Accuracy', self.accuracy)\n",
    "        return self.accuracy\n",
    "        \n",
    "    def grid_test(self,rf):\n",
    "        bin_results = np.zeros((23,23))\n",
    "        for primary in range(16,39):\n",
    "            for secondary in range(16, primary + 1):\n",
    "                data = bin_df[(bin_df['primary_type'] == primary) & (bin_df['secondary_type'] <= secondary)]\n",
    "                x = np.insert(np.arange(441), 0, -1)\n",
    "                data = data.iloc[:,x].to_numpy()\n",
    "\n",
    "                try:\n",
    "                    outputs = rf.predict(data)\n",
    "                    accuracy = np.sum(outputs) / len(outputs)\n",
    "                except:\n",
    "                    accuracy = 0\n",
    "\n",
    "                bin_results[primary - 16, secondary - 16] = accuracy\n",
    "\n",
    "        sin_results = np.multiply(np.ones((23,1)), -1)\n",
    "        for single in range(16,39):\n",
    "            data = sin_df[(sin_df['spectral_type'] == single)]\n",
    "            x = np.insert(np.arange(441), 0, -2)\n",
    "            data = data.iloc[:,x].to_numpy()\n",
    "            outputs = rf.predict(data)\n",
    "            accuracy = np.sum(outputs) / len(outputs)\n",
    "\n",
    "            sin_results[single - 16,0] = accuracy\n",
    "        \n",
    "        \n",
    "        return bin_results, sin_results\n",
    "\n",
    "    def acc_map(self,results):\n",
    "        plt.figure(figsize = (8,7))\n",
    "        ax = sns.heatmap(results, cmap = \"mako\")\n",
    "        labels = ['M6','M7','M8','M9','L0','L1','L2','L3','L4','L5','L6','L7','L8','L9','T0','T1','T2','T3','T4','T5','T6','T7','T8']\n",
    "        ax.set_xticklabels(labels)\n",
    "        ax.set_yticklabels(labels)\n",
    "        ax.patch.set_edgecolor('black')  \n",
    "        ax.patch.set_linewidth('10') \n",
    "        ax.set_ylabel('Primary')\n",
    "        ax.set_xlabel('Seconday')\n",
    "        ax.set_title('Accuracy per Binary Pairing')\n"
   ]
  },
  {
   "cell_type": "code",
   "execution_count": 209,
   "metadata": {},
   "outputs": [
    {
     "name": "stdout",
     "output_type": "stream",
     "text": [
      "Model Accuracy 0.5085714285714286\n"
     ]
    },
    {
     "data": {
      "text/plain": [
       "0.5085714285714286"
      ]
     },
     "execution_count": 209,
     "metadata": {},
     "output_type": "execute_result"
    },
    {
     "data": {
      "image/png": "[encoded data removed]",
      "text/plain": [
       "<Figure size 576x504 with 2 Axes>"
      ]
     },
     "metadata": {},
     "output_type": "display_data"
    }
   ],
   "source": [
    "dataset = data(use_noise = True)\n",
    "train_data, train_labels, test_data, test_labels = dataset.get_data()\n",
    "experiment = run_model(train_data, train_labels, test_data, test_labels)\n",
    "experiment.rf()"
   ]
  }
 ],
 "metadata": {
  "kernelspec": {
   "display_name": "Python 3.10.5 ('sklearn-env')",
   "language": "python",
   "name": "python3"
  },
  "language_info": {
   "codemirror_mode": {
    "name": "ipython",
    "version": 3
   },
   "file_extension": ".py",
   "mimetype": "text/x-python",
   "name": "python",
   "nbconvert_exporter": "python",
   "pygments_lexer": "ipython3",
   "version": "3.10.5"
  },
  "orig_nbformat": 4,
  "vscode": {
   "interpreter": {
    "hash": "f00498b9bc416871af40540d24511ca2f0547b4670375674646df8758df38473"
   }
  }
 },
 "nbformat": 4,
 "nbformat_minor": 2
}
